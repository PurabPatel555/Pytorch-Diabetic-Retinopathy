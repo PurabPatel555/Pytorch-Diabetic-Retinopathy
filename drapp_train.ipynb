{
  "nbformat": 4,
  "nbformat_minor": 0,
  "metadata": {
    "colab": {
      "name": "drapp_train.ipynb",
      "provenance": [],
      "collapsed_sections": [],
      "authorship_tag": "ABX9TyOiekY3PHlrRtYfKF1Z40rk",
      "include_colab_link": true
    },
    "kernelspec": {
      "name": "python3",
      "display_name": "Python 3"
    }
  },
  "cells": [
    {
      "cell_type": "markdown",
      "metadata": {
        "id": "view-in-github",
        "colab_type": "text"
      },
      "source": [
        "<a href=\"https://colab.research.google.com/github/PurabPatel555/Pytorch-Diabetic-Retinopathy/blob/master/drapp_train.ipynb\" target=\"_parent\"><img src=\"https://colab.research.google.com/assets/colab-badge.svg\" alt=\"Open In Colab\"/></a>"
      ]
    },
    {
      "cell_type": "code",
      "metadata": {
        "id": "75l7xqbOMuFS",
        "colab_type": "code",
        "colab": {
          "base_uri": "https://localhost:8080/",
          "height": 34
        },
        "outputId": "f30ea1fb-2b88-47fb-eb01-15dd277a1fe4"
      },
      "source": [
        "from google.colab import drive\n",
        "drive.mount('/content/drive')"
      ],
      "execution_count": null,
      "outputs": [
        {
          "output_type": "stream",
          "text": [
            "Drive already mounted at /content/drive; to attempt to forcibly remount, call drive.mount(\"/content/drive\", force_remount=True).\n"
          ],
          "name": "stdout"
        }
      ]
    },
    {
      "cell_type": "code",
      "metadata": {
        "id": "OC3h0Jizwwky",
        "colab_type": "code",
        "colab": {}
      },
      "source": [
        "#Set path to save trained model to \n",
        "PATH = '/content/drive/My Drive/drapp/trained_model.pt'"
      ],
      "execution_count": null,
      "outputs": []
    },
    {
      "cell_type": "code",
      "metadata": {
        "id": "8QSrheg2DVIg",
        "colab_type": "code",
        "colab": {}
      },
      "source": [
        "#Installs\n",
        "!pip install pretrainedmodels\n",
        "!pip install tqdm\n",
        "\n",
        "#Imports\n",
        "import os\n",
        "import numpy as np\n",
        "import pandas as pd\n",
        "import torch\n",
        "import torch.nn as nn\n",
        "from torch.nn import functional as f\n",
        "import torch.optim as optim\n",
        "from torch.utils import data\n",
        "from torchvision import datasets, transforms, models\n",
        "from tqdm import tqdm\n",
        "from torch.utils.data.sampler import SubsetRandomSampler\n",
        "\n",
        "#Some Settings and Hyperparameters\n",
        "test_split = 0.1\n",
        "shuffle_dataset = True\n",
        "device = torch.device('cuda' if torch.cuda.is_available() else 'cpu')\n",
        "bs = 32\n",
        "test_bs = 16\n",
        "learning_rate = 0.001\n",
        "\n",
        "#Datasets (The images are sorted into 5 folders as per their category)\n",
        "root_dir = '/content/drive/My Drive/drapp/gaussian_filtered_images'\n",
        "dataset = datasets.ImageFolder(root = root_dir, \n",
        "                transform = transforms.ToTensor())\n",
        "dataset_size = len(dataset)\n",
        "indices = list(range(dataset_size))\n",
        "split = int(np.floor(test_split*dataset_size))\n",
        "if shuffle_dataset:\n",
        "  np.random.seed(42)\n",
        "  np.random.shuffle(indices)\n",
        "\n",
        "train_idx, test_idx = indices[split:], indices[:split]\n",
        "\n",
        "train_sampler = SubsetRandomSampler(train_idx)\n",
        "test_sampler = SubsetRandomSampler(test_idx)\n",
        "\n",
        "print(dataset.class_to_idx) #Check the labelling\n",
        "\n",
        "#Dataloaders\n",
        "loader = torch.utils.data.DataLoader(dataset, batch_size=bs, sampler=train_sampler)\n",
        "test_loader = torch.utils.data.DataLoader(dataset, batch_size=test_bs, sampler=test_sampler)\n",
        "\n",
        "#Create Model\n",
        "class VGG16(nn.Module):\n",
        "  def __init__(self):\n",
        "    super(VGG16, self).__init__()\n",
        "    vgg16 = models.vgg16_bn(pretrained=True)\n",
        "    for param in vgg16.parameters():\n",
        "      param.requires_grad = False\n",
        "    num_features = vgg16.classifier[6].in_features\n",
        "    features = list(vgg16.classifier.children())[:-1]\n",
        "    features.extend([nn.Linear(num_features, 5)])\n",
        "    vgg16.classifier = nn.Sequential(*features)\n",
        "    self.model = vgg16\n",
        "    \n",
        "  def forward(self, image):\n",
        "    bs, _, _, _ = image.shape\n",
        "    out = self.model(image)\n",
        "    return out\n",
        "\n",
        "#Initialize Model\n",
        "model = VGG16().to(device)\n",
        "model.load_state_dict(torch.load(PATH, map_location=device))\n",
        "model.train()\n",
        "\n",
        "#Loss, Optimizer, Scheduler (Scheduler Not Used Here)\n",
        "criterion = nn.CrossEntropyLoss()\n",
        "optimizer = optim.Adam(model.parameters(), lr = learning_rate)\n",
        "\n",
        "#Training\n",
        "def train(model, criterion, optimizer, num_epochs=epochs):\n",
        "  for epoch in range(num_epochs):\n",
        "    loop = tqdm(enumerate(loader), total=len(loader), leave=False)\n",
        "    for batch_id, (data, targets) in loop:\n",
        "      data = data.to(device=device)\n",
        "      targets = targets.to(device=device)\n",
        "\n",
        "      scores = model(data)\n",
        "      loss = criterion(scores, targets)\n",
        "\n",
        "      optimizer.zero_grad()\n",
        "      loss.backward()\n",
        "      optimizer.step()\n",
        "\n",
        "      loop.set_description(f\"Epoch [{epoch}/{num_epochs}]\")\n",
        "      loop.set_postfix(loss = loss.item())\n",
        "    torch.save(model.state_dict(), PATH)\n",
        "  return model"
      ],
      "execution_count": null,
      "outputs": []
    },
    {
      "cell_type": "code",
      "metadata": {
        "id": "vIY2Q44nv1oG",
        "colab_type": "code",
        "colab": {
          "base_uri": "https://localhost:8080/",
          "height": 17
        },
        "outputId": "d5a3eeae-17a4-4639-92bd-73cf3809d239"
      },
      "source": [
        "#-----Train and Save-----\n",
        "trained_model = train(model, criterion, optimizer, num_epochs=25)\n",
        "torch.save(trained_model.state_dict(), PATH)"
      ],
      "execution_count": null,
      "outputs": [
        {
          "output_type": "stream",
          "text": [
            ""
          ],
          "name": "stderr"
        }
      ]
    },
    {
      "cell_type": "code",
      "metadata": {
        "id": "vxtEiSqENmbE",
        "colab_type": "code",
        "colab": {}
      },
      "source": [
        "#-----Evaluation-----\n",
        "trained_model = VGG16()\n",
        "trained_model.load_state_dict(torch.load(PATH, map_location=device))\n",
        "trained_model.eval()\n",
        "\n",
        "running_accuracy = 0\n",
        "for _,(x, y) in enumerate(test_loader):\n",
        "    x = x.to(device)\n",
        "    y = y.to(device)\n",
        "    _,predictions = torch.max(trained_model(x),1)\n",
        "    groundtruths = y\n",
        "\n",
        "    print(predictions)\n",
        "    print(groundtruths)\n",
        "    accuracy = predictions.eq(groundtruths).sum().item()\n",
        "    accuracy = accuracy*100/16\n",
        "    print(accuracy)\n",
        "    running_accuracy += accuracy \n",
        "print(running_accuracy/len(test_loader))"
      ],
      "execution_count": null,
      "outputs": []
    }
  ]
}